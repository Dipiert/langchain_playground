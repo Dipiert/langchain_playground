{
 "cells": [
  {
   "cell_type": "code",
   "execution_count": 2,
   "id": "e93a0a2a",
   "metadata": {},
   "outputs": [
    {
     "name": "stdout",
     "output_type": "stream",
     "text": [
      "Requirement already satisfied: langchain[openai] in c:\\users\\damia\\appdata\\local\\programs\\python\\python310\\lib\\site-packages (0.3.23)\n",
      "Requirement already satisfied: python-dotenv in c:\\users\\damia\\appdata\\local\\programs\\python\\python310\\lib\\site-packages (1.1.0)\n",
      "Requirement already satisfied: langchain-core<1.0.0,>=0.3.51 in c:\\users\\damia\\appdata\\local\\programs\\python\\python310\\lib\\site-packages (from langchain[openai]) (0.3.51)\n",
      "Requirement already satisfied: PyYAML>=5.3 in c:\\users\\damia\\appdata\\local\\programs\\python\\python310\\lib\\site-packages (from langchain[openai]) (6.0)\n",
      "Requirement already satisfied: pydantic<3.0.0,>=2.7.4 in c:\\users\\damia\\appdata\\local\\programs\\python\\python310\\lib\\site-packages (from langchain[openai]) (2.11.3)\n",
      "Requirement already satisfied: async-timeout<5.0.0,>=4.0.0 in c:\\users\\damia\\appdata\\local\\programs\\python\\python310\\lib\\site-packages (from langchain[openai]) (4.0.3)\n",
      "Requirement already satisfied: langsmith<0.4,>=0.1.17 in c:\\users\\damia\\appdata\\local\\programs\\python\\python310\\lib\\site-packages (from langchain[openai]) (0.3.27)\n",
      "Requirement already satisfied: SQLAlchemy<3,>=1.4 in c:\\users\\damia\\appdata\\local\\programs\\python\\python310\\lib\\site-packages (from langchain[openai]) (2.0.40)\n",
      "Requirement already satisfied: langchain-text-splitters<1.0.0,>=0.3.8 in c:\\users\\damia\\appdata\\local\\programs\\python\\python310\\lib\\site-packages (from langchain[openai]) (0.3.8)\n",
      "Requirement already satisfied: requests<3,>=2 in c:\\users\\damia\\appdata\\local\\programs\\python\\python310\\lib\\site-packages (from langchain[openai]) (2.32.3)\n",
      "Collecting langchain-openai\n",
      "  Downloading langchain_openai-0.3.12-py3-none-any.whl (61 kB)\n",
      "     ---------------------------------------- 0.0/61.3 kB ? eta -:--:--\n",
      "     ---------------------------------------- 61.3/61.3 kB 3.2 MB/s eta 0:00:00\n",
      "Requirement already satisfied: jsonpatch<2.0,>=1.33 in c:\\users\\damia\\appdata\\local\\programs\\python\\python310\\lib\\site-packages (from langchain-core<1.0.0,>=0.3.51->langchain[openai]) (1.33)\n",
      "Requirement already satisfied: typing-extensions>=4.7 in c:\\users\\damia\\appdata\\roaming\\python\\python310\\site-packages (from langchain-core<1.0.0,>=0.3.51->langchain[openai]) (4.13.1)\n",
      "Requirement already satisfied: tenacity!=8.4.0,<10.0.0,>=8.1.0 in c:\\users\\damia\\appdata\\local\\programs\\python\\python310\\lib\\site-packages (from langchain-core<1.0.0,>=0.3.51->langchain[openai]) (9.1.2)\n",
      "Requirement already satisfied: packaging<25,>=23.2 in c:\\users\\damia\\appdata\\roaming\\python\\python310\\site-packages (from langchain-core<1.0.0,>=0.3.51->langchain[openai]) (24.2)\n",
      "Requirement already satisfied: zstandard<0.24.0,>=0.23.0 in c:\\users\\damia\\appdata\\local\\programs\\python\\python310\\lib\\site-packages (from langsmith<0.4,>=0.1.17->langchain[openai]) (0.23.0)\n",
      "Requirement already satisfied: requests-toolbelt<2.0.0,>=1.0.0 in c:\\users\\damia\\appdata\\local\\programs\\python\\python310\\lib\\site-packages (from langsmith<0.4,>=0.1.17->langchain[openai]) (1.0.0)\n",
      "Requirement already satisfied: orjson<4.0.0,>=3.9.14 in c:\\users\\damia\\appdata\\local\\programs\\python\\python310\\lib\\site-packages (from langsmith<0.4,>=0.1.17->langchain[openai]) (3.10.16)\n",
      "Requirement already satisfied: httpx<1,>=0.23.0 in c:\\users\\damia\\appdata\\local\\programs\\python\\python310\\lib\\site-packages (from langsmith<0.4,>=0.1.17->langchain[openai]) (0.28.1)\n",
      "Requirement already satisfied: typing-inspection>=0.4.0 in c:\\users\\damia\\appdata\\local\\programs\\python\\python310\\lib\\site-packages (from pydantic<3.0.0,>=2.7.4->langchain[openai]) (0.4.0)\n",
      "Requirement already satisfied: annotated-types>=0.6.0 in c:\\users\\damia\\appdata\\local\\programs\\python\\python310\\lib\\site-packages (from pydantic<3.0.0,>=2.7.4->langchain[openai]) (0.7.0)\n",
      "Requirement already satisfied: pydantic-core==2.33.1 in c:\\users\\damia\\appdata\\local\\programs\\python\\python310\\lib\\site-packages (from pydantic<3.0.0,>=2.7.4->langchain[openai]) (2.33.1)\n",
      "Requirement already satisfied: charset-normalizer<4,>=2 in c:\\users\\damia\\appdata\\local\\programs\\python\\python310\\lib\\site-packages (from requests<3,>=2->langchain[openai]) (3.4.1)\n",
      "Requirement already satisfied: urllib3<3,>=1.21.1 in c:\\users\\damia\\appdata\\local\\programs\\python\\python310\\lib\\site-packages (from requests<3,>=2->langchain[openai]) (2.3.0)\n",
      "Requirement already satisfied: idna<4,>=2.5 in c:\\users\\damia\\appdata\\local\\programs\\python\\python310\\lib\\site-packages (from requests<3,>=2->langchain[openai]) (3.4)\n",
      "Requirement already satisfied: certifi>=2017.4.17 in c:\\users\\damia\\appdata\\local\\programs\\python\\python310\\lib\\site-packages (from requests<3,>=2->langchain[openai]) (2025.1.31)\n",
      "Requirement already satisfied: greenlet>=1 in c:\\users\\damia\\appdata\\local\\programs\\python\\python310\\lib\\site-packages (from SQLAlchemy<3,>=1.4->langchain[openai]) (3.1.1)\n",
      "Collecting openai<2.0.0,>=1.68.2\n",
      "  Downloading openai-1.72.0-py3-none-any.whl (643 kB)\n",
      "     ---------------------------------------- 0.0/643.9 kB ? eta -:--:--\n",
      "     --------------------------- --------- 481.3/643.9 kB 14.7 MB/s eta 0:00:01\n",
      "     ------------------------------------- 643.9/643.9 kB 13.5 MB/s eta 0:00:00\n",
      "Collecting tiktoken<1,>=0.7\n",
      "  Downloading tiktoken-0.9.0-cp310-cp310-win_amd64.whl (894 kB)\n",
      "     ---------------------------------------- 0.0/894.0 kB ? eta -:--:--\n",
      "     ------------------------------------- 894.0/894.0 kB 28.5 MB/s eta 0:00:00\n",
      "Requirement already satisfied: anyio in c:\\users\\damia\\appdata\\local\\programs\\python\\python310\\lib\\site-packages (from httpx<1,>=0.23.0->langsmith<0.4,>=0.1.17->langchain[openai]) (3.6.2)\n",
      "Requirement already satisfied: httpcore==1.* in c:\\users\\damia\\appdata\\local\\programs\\python\\python310\\lib\\site-packages (from httpx<1,>=0.23.0->langsmith<0.4,>=0.1.17->langchain[openai]) (1.0.7)\n",
      "Requirement already satisfied: h11<0.15,>=0.13 in c:\\users\\damia\\appdata\\local\\programs\\python\\python310\\lib\\site-packages (from httpcore==1.*->httpx<1,>=0.23.0->langsmith<0.4,>=0.1.17->langchain[openai]) (0.14.0)\n",
      "Requirement already satisfied: jsonpointer>=1.9 in c:\\users\\damia\\appdata\\local\\programs\\python\\python310\\lib\\site-packages (from jsonpatch<2.0,>=1.33->langchain-core<1.0.0,>=0.3.51->langchain[openai]) (3.0.0)\n",
      "Collecting distro<2,>=1.7.0\n",
      "  Using cached distro-1.9.0-py3-none-any.whl (20 kB)\n",
      "Collecting jiter<1,>=0.4.0\n",
      "  Downloading jiter-0.9.0-cp310-cp310-win_amd64.whl (208 kB)\n",
      "     ---------------------------------------- 0.0/208.4 kB ? eta -:--:--\n",
      "     ---------------------------------------- 208.4/208.4 kB ? eta 0:00:00\n",
      "Collecting tqdm>4\n",
      "  Using cached tqdm-4.67.1-py3-none-any.whl (78 kB)\n",
      "Requirement already satisfied: sniffio in c:\\users\\damia\\appdata\\local\\programs\\python\\python310\\lib\\site-packages (from openai<2.0.0,>=1.68.2->langchain-openai->langchain[openai]) (1.3.0)\n",
      "Collecting regex>=2022.1.18\n",
      "  Downloading regex-2024.11.6-cp310-cp310-win_amd64.whl (274 kB)\n",
      "     ---------------------------------------- 0.0/274.0 kB ? eta -:--:--\n",
      "     ------------------------------------- 274.0/274.0 kB 16.5 MB/s eta 0:00:00\n",
      "Requirement already satisfied: colorama in c:\\users\\damia\\appdata\\local\\programs\\python\\python310\\lib\\site-packages (from tqdm>4->openai<2.0.0,>=1.68.2->langchain-openai->langchain[openai]) (0.4.6)\n",
      "Installing collected packages: tqdm, regex, jiter, distro, tiktoken, openai, langchain-openai\n",
      "Successfully installed distro-1.9.0 jiter-0.9.0 langchain-openai-0.3.12 openai-1.72.0 regex-2024.11.6 tiktoken-0.9.0 tqdm-4.67.1\n"
     ]
    },
    {
     "name": "stderr",
     "output_type": "stream",
     "text": [
      "  WARNING: The script tqdm.exe is installed in 'c:\\Users\\damia\\AppData\\Local\\Programs\\Python\\Python310\\Scripts' which is not on PATH.\n",
      "  Consider adding this directory to PATH or, if you prefer to suppress this warning, use --no-warn-script-location.\n",
      "  WARNING: The script distro.exe is installed in 'c:\\Users\\damia\\AppData\\Local\\Programs\\Python\\Python310\\Scripts' which is not on PATH.\n",
      "  Consider adding this directory to PATH or, if you prefer to suppress this warning, use --no-warn-script-location.\n",
      "  WARNING: The script openai.exe is installed in 'c:\\Users\\damia\\AppData\\Local\\Programs\\Python\\Python310\\Scripts' which is not on PATH.\n",
      "  Consider adding this directory to PATH or, if you prefer to suppress this warning, use --no-warn-script-location.\n",
      "\n",
      "[notice] A new release of pip is available: 23.0 -> 25.0.1\n",
      "[notice] To update, run: python.exe -m pip install --upgrade pip\n"
     ]
    }
   ],
   "source": [
    "!python -m pip install -U langchain[openai] python-dotenv"
   ]
  },
  {
   "cell_type": "code",
   "execution_count": 2,
   "id": "cb4a57c1",
   "metadata": {},
   "outputs": [],
   "source": [
    "\n",
    "import getpass\n",
    "import os\n",
    "from langchain.chat_models import init_chat_model\n",
    "from langchain_core.messages import HumanMessage, SystemMessage\n",
    "from langchain_core.prompts import ChatPromptTemplate"
   ]
  },
  {
   "cell_type": "code",
   "execution_count": null,
   "id": "b24ba3cc",
   "metadata": {},
   "outputs": [],
   "source": [
    "\n",
    "try:\n",
    "    from dotenv import load_dotenv\n",
    "    load_dotenv()\n",
    "except ImportError:\n",
    "    pass\n",
    "\n",
    "os.environ[\"LANGSMITH_TRACING\"] = \"true\"\n",
    "if \"LANGSMITH_API_KEY\" not in os.environ:\n",
    "    os.environ[\"LANGSMITH_API_KEY\"] = getpass.getpass(\n",
    "        prompt=\"Enter your LangSmith API key (optional): \"\n",
    "    )\n",
    "if \"LANGSMITH_PROJECT\" not in os.environ:\n",
    "    os.environ[\"LANGSMITH_PROJECT\"] = getpass.getpass(\n",
    "        prompt='Enter your LangSmith Project Name (default = \"default\"): '\n",
    "    )\n",
    "    if not os.environ.get(\"LANGSMITH_PROJECT\"):\n",
    "        os.environ[\"LANGSMITH_PROJECT\"] = \"default\"\n",
    "if \"OPENAI_API_KEY\" not in os.environ:\n",
    "    os.environ[\"OPENAI_API_KEY\"] = getpass.getpass(\n",
    "        prompt=\"Enter your OpenAI API key (required if using OpenAI): \"\n",
    "    )"
   ]
  },
  {
   "cell_type": "code",
   "execution_count": 8,
   "id": "5fabac8b",
   "metadata": {},
   "outputs": [
    {
     "data": {
      "text/plain": [
       "AIMessage(content='Ciao!', additional_kwargs={'refusal': None}, response_metadata={'token_usage': {'completion_tokens': 4, 'prompt_tokens': 20, 'total_tokens': 24, 'completion_tokens_details': {'accepted_prediction_tokens': 0, 'audio_tokens': 0, 'reasoning_tokens': 0, 'rejected_prediction_tokens': 0}, 'prompt_tokens_details': {'audio_tokens': 0, 'cached_tokens': 0}}, 'model_name': 'gpt-4o-mini-2024-07-18', 'system_fingerprint': 'fp_9654a743ed', 'id': 'chatcmpl-BKNLL0SIhpSGORq886HhLIyxEUcVV', 'finish_reason': 'stop', 'logprobs': None}, id='run-42c662a1-a382-42c1-ae39-49d061024eb0-0', usage_metadata={'input_tokens': 20, 'output_tokens': 4, 'total_tokens': 24, 'input_token_details': {'audio': 0, 'cache_read': 0}, 'output_token_details': {'audio': 0, 'reasoning': 0}})"
      ]
     },
     "execution_count": 8,
     "metadata": {},
     "output_type": "execute_result"
    }
   ],
   "source": [
    "\n",
    "model = init_chat_model(\"gpt-4o-mini\", model_provider=\"openai\")\n",
    "\n",
    "messages = [\n",
    "    SystemMessage(\"Translate the following from English into Italian\"),\n",
    "    HumanMessage(\"hi!\"),\n",
    "]\n",
    "\n",
    "model.invoke(messages)"
   ]
  },
  {
   "cell_type": "code",
   "execution_count": 12,
   "id": "ef05fd2e",
   "metadata": {},
   "outputs": [
    {
     "data": {
      "text/plain": [
       "ChatPromptValue(messages=[SystemMessage(content='Translate the following from English into Italian', additional_kwargs={}, response_metadata={}), HumanMessage(content='hi!', additional_kwargs={}, response_metadata={})])"
      ]
     },
     "execution_count": 12,
     "metadata": {},
     "output_type": "execute_result"
    }
   ],
   "source": [
    "system_template = \"Translate the following from English into {language}\"\n",
    "\n",
    "prompt_template = ChatPromptTemplate.from_messages(\n",
    "    [(\"system\", system_template), (\"user\", \"{text}\")]\n",
    ")\n",
    "\n",
    "prompt = prompt_template.invoke({\"language\": \"Italian\", \"text\": \"hi!\"})\n",
    "\n",
    "prompt"
   ]
  },
  {
   "cell_type": "code",
   "execution_count": 13,
   "id": "249dbb31",
   "metadata": {},
   "outputs": [
    {
     "name": "stdout",
     "output_type": "stream",
     "text": [
      "Ciao!\n"
     ]
    }
   ],
   "source": [
    "response = model.invoke(prompt)\n",
    "print(response.content)"
   ]
  }
 ],
 "metadata": {
  "kernelspec": {
   "display_name": "Python 3",
   "language": "python",
   "name": "python3"
  },
  "language_info": {
   "codemirror_mode": {
    "name": "ipython",
    "version": 3
   },
   "file_extension": ".py",
   "mimetype": "text/x-python",
   "name": "python",
   "nbconvert_exporter": "python",
   "pygments_lexer": "ipython3",
   "version": "3.10.1"
  }
 },
 "nbformat": 4,
 "nbformat_minor": 5
}
