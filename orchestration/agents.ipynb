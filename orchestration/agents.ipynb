{
 "cells": [
  {
   "cell_type": "code",
   "execution_count": 7,
   "id": "8df9f0fe",
   "metadata": {},
   "outputs": [
    {
     "name": "stdout",
     "output_type": "stream",
     "text": [
      "Note: you may need to restart the kernel to use updated packages.\n"
     ]
    }
   ],
   "source": [
    "%pip install -qU langchain-community langgraph langchain-anthropic tavily-python langgraph-checkpoint-sqlite langchain[openai]"
   ]
  },
  {
   "cell_type": "code",
   "execution_count": 25,
   "id": "4c6c093e",
   "metadata": {},
   "outputs": [],
   "source": [
    "from langchain_community.tools.tavily_search import TavilySearchResults\n",
    "import dotenv\n",
    "dotenv.load_dotenv()\n",
    "from langchain.chat_models import init_chat_model\n",
    "import getpass\n",
    "import os\n",
    "from langchain_core.messages import HumanMessage\n",
    "from langgraph.prebuilt import create_react_agent\n",
    "from langgraph.checkpoint.memory import MemorySaver\n"
   ]
  },
  {
   "cell_type": "code",
   "execution_count": 14,
   "id": "59ad9136",
   "metadata": {},
   "outputs": [],
   "source": [
    "search = TavilySearchResults(max_results=2)\n",
    "search_results = search.invoke(\"what is the weather in SF\")\n",
    "\n",
    "tools = [search]\n"
   ]
  },
  {
   "cell_type": "code",
   "execution_count": 9,
   "id": "47f38324",
   "metadata": {},
   "outputs": [],
   "source": [
    "\n",
    "if not os.environ.get(\"OPENAI_API_KEY\"):\n",
    "  os.environ[\"OPENAI_API_KEY\"] = getpass.getpass(\"Enter API key for OpenAI: \")\n",
    "  \n",
    "model = init_chat_model(\"gpt-4\", model_provider=\"openai\")"
   ]
  },
  {
   "cell_type": "code",
   "execution_count": 13,
   "id": "11fe5066",
   "metadata": {},
   "outputs": [
    {
     "data": {
      "text/plain": [
       "'Hello! How can I assist you today?'"
      ]
     },
     "execution_count": 13,
     "metadata": {},
     "output_type": "execute_result"
    }
   ],
   "source": [
    "response = model.invoke([HumanMessage(content=\"hi!\")])\n",
    "response.content"
   ]
  },
  {
   "cell_type": "code",
   "execution_count": 15,
   "id": "e9fdd819",
   "metadata": {},
   "outputs": [],
   "source": [
    "model_with_tools = model.bind_tools(tools)"
   ]
  },
  {
   "cell_type": "code",
   "execution_count": 16,
   "id": "0b7e9c47",
   "metadata": {},
   "outputs": [
    {
     "name": "stdout",
     "output_type": "stream",
     "text": [
      "ContentString: Hello! How can I assist you today?\n",
      "ToolCalls: []\n"
     ]
    }
   ],
   "source": [
    "response = model_with_tools.invoke([HumanMessage(content=\"Hi!\")])\n",
    "\n",
    "print(f\"ContentString: {response.content}\")\n",
    "print(f\"ToolCalls: {response.tool_calls}\")"
   ]
  },
  {
   "cell_type": "code",
   "execution_count": 17,
   "id": "e1ced8c9",
   "metadata": {},
   "outputs": [
    {
     "name": "stdout",
     "output_type": "stream",
     "text": [
      "ContentString: \n",
      "ToolCalls: [{'name': 'tavily_search_results_json', 'args': {'query': 'current weather in San Francisco'}, 'id': 'call_bg5ML1SIViDHK8IHt6FjidZF', 'type': 'tool_call'}]\n"
     ]
    }
   ],
   "source": [
    "response = model_with_tools.invoke([HumanMessage(content=\"What's the weather in SF?\")])\n",
    "\n",
    "print(f\"ContentString: {response.content}\")\n",
    "print(f\"ToolCalls: {response.tool_calls}\")"
   ]
  },
  {
   "cell_type": "code",
   "execution_count": 20,
   "id": "15f39234",
   "metadata": {},
   "outputs": [
    {
     "data": {
      "text/plain": [
       "[HumanMessage(content='hi!', additional_kwargs={}, response_metadata={}, id='5becd00c-4c4d-4582-97b8-5c9fed5f238f'),\n",
       " AIMessage(content='Hello! How can I assist you today?', additional_kwargs={'refusal': None}, response_metadata={'token_usage': {'completion_tokens': 11, 'prompt_tokens': 83, 'total_tokens': 94, 'completion_tokens_details': {'accepted_prediction_tokens': 0, 'audio_tokens': 0, 'reasoning_tokens': 0, 'rejected_prediction_tokens': 0}, 'prompt_tokens_details': {'audio_tokens': 0, 'cached_tokens': 0}}, 'model_name': 'gpt-4-0613', 'system_fingerprint': None, 'id': 'chatcmpl-BLYJMDV5MnzLUmUEjrc6VxbNO3pXB', 'finish_reason': 'stop', 'logprobs': None}, id='run-a29e65cf-66da-41bd-a00f-0c52c2c11dca-0', usage_metadata={'input_tokens': 83, 'output_tokens': 11, 'total_tokens': 94, 'input_token_details': {'audio': 0, 'cache_read': 0}, 'output_token_details': {'audio': 0, 'reasoning': 0}})]"
      ]
     },
     "execution_count": 20,
     "metadata": {},
     "output_type": "execute_result"
    }
   ],
   "source": [
    "agent_executor = create_react_agent(model, tools)\n",
    "\n",
    "response = agent_executor.invoke({\"messages\": [HumanMessage(content=\"hi!\")]})\n",
    "\n",
    "response[\"messages\"]"
   ]
  },
  {
   "cell_type": "code",
   "execution_count": 21,
   "id": "a4c5f5d9",
   "metadata": {},
   "outputs": [
    {
     "data": {
      "text/plain": [
       "[HumanMessage(content='whats the weather in sf?', additional_kwargs={}, response_metadata={}, id='c030a7f5-5d6e-4844-a26f-c7014f3b5d97'),\n",
       " AIMessage(content='', additional_kwargs={'tool_calls': [{'id': 'call_kOxNLquxf8t6nVpIExgA81hN', 'function': {'arguments': '{\\n  \"query\": \"current weather in san francisco\"\\n}', 'name': 'tavily_search_results_json'}, 'type': 'function'}], 'refusal': None}, response_metadata={'token_usage': {'completion_tokens': 25, 'prompt_tokens': 88, 'total_tokens': 113, 'completion_tokens_details': {'accepted_prediction_tokens': 0, 'audio_tokens': 0, 'reasoning_tokens': 0, 'rejected_prediction_tokens': 0}, 'prompt_tokens_details': {'audio_tokens': 0, 'cached_tokens': 0}}, 'model_name': 'gpt-4-0613', 'system_fingerprint': None, 'id': 'chatcmpl-BLYK9Z2PcQwMgtFIFMpwK992skrci', 'finish_reason': 'tool_calls', 'logprobs': None}, id='run-1ca021ee-63dc-47ef-9104-7ab180b4fc05-0', tool_calls=[{'name': 'tavily_search_results_json', 'args': {'query': 'current weather in san francisco'}, 'id': 'call_kOxNLquxf8t6nVpIExgA81hN', 'type': 'tool_call'}], usage_metadata={'input_tokens': 88, 'output_tokens': 25, 'total_tokens': 113, 'input_token_details': {'audio': 0, 'cache_read': 0}, 'output_token_details': {'audio': 0, 'reasoning': 0}}),\n",
       " ToolMessage(content='[{\"title\": \"Weather in San Francisco in April 2025 - Detailed Forecast\", \"url\": \"https://www.easeweather.com/north-america/united-states/california/city-and-county-of-san-francisco/san-francisco/april\", \"content\": \"Sunny\\\\n| 64° /55° | 0\\xa0in | 4 |  |\\\\n| Apr. 11 | \\\\nPartly cloudy\\\\n| 59° /53° | 0\\xa0in | 4 |  |\\\\n| Apr. 12 | \\\\nSunny\\\\n| 55° /50° | 0\\xa0in | 4 |  |\\\\n| Apr. 13 | \\\\nSunny\\\\n| 55° /48° | 0\\xa0in | 4 |  |\\\\n| Apr. 14 | \\\\nPatchy rain possible\\\\n| 51° /46° | 0.01\\xa0in | 3 |  |\\\\n| Apr. 15 | \\\\nSunny\\\\n| 59° /44° | 0\\xa0in | 4 |  |\\\\n| Apr. 16 | \\\\nOvercast\\\\n| 60° /44° | 0.1\\xa0in | 4 |  |\\\\n| Apr. 17 | \\\\nSunny\\\\n| 60° /46° | 0\\xa0in | 4 |  |\\\\n| Apr. 18 | \\\\nOvercast\\\\n| 62° /46° | 0.01\\xa0in | 4 |  |\\\\n| Apr. 19 | \\\\nCloudy\\\\n| 60° /48° | 0.02\\xa0in | 4 |  | [...] April\\\\nJanuaryFebruaryMarch\\\\nApril\\\\nMayJuneJulyAugustSeptemberOctoberNovemberDecember\\\\nWeather in San Francisco for April 2025\\\\nYour guide to San Francisco weather in April - trends and predictions\\\\nTemperatures\\\\n\\\\n\\\\nThe forecast for the next days in San Francisco predicts temperatures to be around 59\\xa0°F, close to the historical average.\", \"score\": 0.8825193}, {\"title\": \"Weather San Francisco in April 2025: Temperature & Climate\", \"url\": \"https://en.climate-data.org/north-america/united-states-of-america/california/san-francisco-385/t/april-4/\", \"content\": \"| Max. Temperature °C (°F) | 14 °C\\\\n(57.3) °F\\\\n| 14.9 °C\\\\n(58.7) °F\\\\n| 16.2 °C\\\\n(61.2) °F\\\\n| 17.4 °C\\\\n(63.3) °F\\\\n| 19.2 °C\\\\n(66.5) °F\\\\n| 21.5 °C\\\\n(70.8) °F\\\\n| 21.8 °C\\\\n(71.2) °F\\\\n| 22.2 °C\\\\n(71.9) °F\\\\n| 23.1 °C\\\\n(73.6) °F\\\\n| 21.3 °C\\\\n(70.3) °F\\\\n| 17.1 °C\\\\n(62.8) °F\\\\n| 13.9 °C\\\\n(57.1) °F\\\\n|\\\\n| Precipitation / Rainfall mm (in) | 113\\\\n(4)\\\\n| 118\\\\n(4)\\\\n| 83\\\\n(3)\\\\n| 40\\\\n(1)\\\\n| 21\\\\n(0)\\\\n| 6\\\\n(0)\\\\n| 2\\\\n(0)\\\\n| 2\\\\n(0)\\\\n| 3\\\\n(0)\\\\n| 25\\\\n(0)\\\\n| 57\\\\n(2)\\\\n| 111\\\\n(4)\\\\n|\\\\n| Humidity(%) | 79% | 80% | 78% | 72% | 70% | 69% | 74% | 74% | 71% | 70% | 76% | 78% | [...] (50.8) °F\\\\n| 11.6 °C\\\\n(52.9) °F\\\\n| 12.5 °C\\\\n(54.6) °F\\\\n| 14.1 °C\\\\n(57.4) °F\\\\n| 15.9 °C\\\\n(60.7) °F\\\\n| 16.3 °C\\\\n(61.4) °F\\\\n| 16.7 °C\\\\n(62.1) °F\\\\n| 17.1 °C\\\\n(62.7) °F\\\\n| 15.7 °C\\\\n(60.2) °F\\\\n| 12.4 °C\\\\n(54.4) °F\\\\n| 9.9 °C\\\\n(49.8) °F\\\\n|\\\\n| Min. Temperature °C (°F) | 6.2 °C\\\\n(43.2) °F\\\\n| 7.1 °C\\\\n(44.8) °F\\\\n| 8.2 °C\\\\n(46.8) °F\\\\n| 8.9 °C\\\\n(48.1) °F\\\\n| 10.3 °C\\\\n(50.6) °F\\\\n| 11.8 °C\\\\n(53.3) °F\\\\n| 12.7 °C\\\\n(54.9) °F\\\\n| 13.3 °C\\\\n(55.9) °F\\\\n| 13.1 °C\\\\n(55.6) °F\\\\n| 11.9 °C\\\\n(53.4) °F\\\\n| 9 °C\\\\n(48.2) °F\\\\n| 6.8 °C\\\\n(44.2) °F\\\\n| [...] | 13. April | 12 °C | 54 °F | 17 °C | 62 °F | 9 °C | 49 °F | 11 °C | 52 °F | 3.8 mm | 0.2 inch. |\\\\n| 14. April | 12 °C | 54 °F | 17 °C | 63 °F | 8 °C | 47 °F | 11 °C | 52 °F | 1.4 mm | 0.1 inch. |\\\\n| 15. April | 12 °C | 54 °F | 17 °C | 63 °F | 8 °C | 47 °F | 11 °C | 52 °F | 0.4 mm | 0.0 inch. |\\\\n| 16. April | 12 °C | 54 °F | 17 °C | 63 °F | 9 °C | 48 °F | 11 °C | 52 °F | 1.2 mm | 0.0 inch. |\\\\n| 17. April | 13 °C | 55 °F | 17 °C | 63 °F | 9 °C | 49 °F | 11 °C | 52 °F | 1.3 mm | 0.1 inch. |\", \"score\": 0.8820324}]', name='tavily_search_results_json', id='0b72136b-d170-4d4e-a9ca-919b5a0188f3', tool_call_id='call_kOxNLquxf8t6nVpIExgA81hN', artifact={'query': 'current weather in san francisco', 'follow_up_questions': None, 'answer': None, 'images': [], 'results': [{'url': 'https://www.easeweather.com/north-america/united-states/california/city-and-county-of-san-francisco/san-francisco/april', 'title': 'Weather in San Francisco in April 2025 - Detailed Forecast', 'content': 'Sunny\\n| 64° /55° | 0\\xa0in | 4 |  |\\n| Apr. 11 | \\nPartly cloudy\\n| 59° /53° | 0\\xa0in | 4 |  |\\n| Apr. 12 | \\nSunny\\n| 55° /50° | 0\\xa0in | 4 |  |\\n| Apr. 13 | \\nSunny\\n| 55° /48° | 0\\xa0in | 4 |  |\\n| Apr. 14 | \\nPatchy rain possible\\n| 51° /46° | 0.01\\xa0in | 3 |  |\\n| Apr. 15 | \\nSunny\\n| 59° /44° | 0\\xa0in | 4 |  |\\n| Apr. 16 | \\nOvercast\\n| 60° /44° | 0.1\\xa0in | 4 |  |\\n| Apr. 17 | \\nSunny\\n| 60° /46° | 0\\xa0in | 4 |  |\\n| Apr. 18 | \\nOvercast\\n| 62° /46° | 0.01\\xa0in | 4 |  |\\n| Apr. 19 | \\nCloudy\\n| 60° /48° | 0.02\\xa0in | 4 |  | [...] April\\nJanuaryFebruaryMarch\\nApril\\nMayJuneJulyAugustSeptemberOctoberNovemberDecember\\nWeather in San Francisco for April 2025\\nYour guide to San Francisco weather in April - trends and predictions\\nTemperatures\\n\\n\\nThe forecast for the next days in San Francisco predicts temperatures to be around 59\\xa0°F, close to the historical average.', 'score': 0.8825193, 'raw_content': None}, {'url': 'https://en.climate-data.org/north-america/united-states-of-america/california/san-francisco-385/t/april-4/', 'title': 'Weather San Francisco in April 2025: Temperature & Climate', 'content': '| Max. Temperature °C (°F) | 14 °C\\n(57.3) °F\\n| 14.9 °C\\n(58.7) °F\\n| 16.2 °C\\n(61.2) °F\\n| 17.4 °C\\n(63.3) °F\\n| 19.2 °C\\n(66.5) °F\\n| 21.5 °C\\n(70.8) °F\\n| 21.8 °C\\n(71.2) °F\\n| 22.2 °C\\n(71.9) °F\\n| 23.1 °C\\n(73.6) °F\\n| 21.3 °C\\n(70.3) °F\\n| 17.1 °C\\n(62.8) °F\\n| 13.9 °C\\n(57.1) °F\\n|\\n| Precipitation / Rainfall mm (in) | 113\\n(4)\\n| 118\\n(4)\\n| 83\\n(3)\\n| 40\\n(1)\\n| 21\\n(0)\\n| 6\\n(0)\\n| 2\\n(0)\\n| 2\\n(0)\\n| 3\\n(0)\\n| 25\\n(0)\\n| 57\\n(2)\\n| 111\\n(4)\\n|\\n| Humidity(%) | 79% | 80% | 78% | 72% | 70% | 69% | 74% | 74% | 71% | 70% | 76% | 78% | [...] (50.8) °F\\n| 11.6 °C\\n(52.9) °F\\n| 12.5 °C\\n(54.6) °F\\n| 14.1 °C\\n(57.4) °F\\n| 15.9 °C\\n(60.7) °F\\n| 16.3 °C\\n(61.4) °F\\n| 16.7 °C\\n(62.1) °F\\n| 17.1 °C\\n(62.7) °F\\n| 15.7 °C\\n(60.2) °F\\n| 12.4 °C\\n(54.4) °F\\n| 9.9 °C\\n(49.8) °F\\n|\\n| Min. Temperature °C (°F) | 6.2 °C\\n(43.2) °F\\n| 7.1 °C\\n(44.8) °F\\n| 8.2 °C\\n(46.8) °F\\n| 8.9 °C\\n(48.1) °F\\n| 10.3 °C\\n(50.6) °F\\n| 11.8 °C\\n(53.3) °F\\n| 12.7 °C\\n(54.9) °F\\n| 13.3 °C\\n(55.9) °F\\n| 13.1 °C\\n(55.6) °F\\n| 11.9 °C\\n(53.4) °F\\n| 9 °C\\n(48.2) °F\\n| 6.8 °C\\n(44.2) °F\\n| [...] | 13. April | 12 °C | 54 °F | 17 °C | 62 °F | 9 °C | 49 °F | 11 °C | 52 °F | 3.8 mm | 0.2 inch. |\\n| 14. April | 12 °C | 54 °F | 17 °C | 63 °F | 8 °C | 47 °F | 11 °C | 52 °F | 1.4 mm | 0.1 inch. |\\n| 15. April | 12 °C | 54 °F | 17 °C | 63 °F | 8 °C | 47 °F | 11 °C | 52 °F | 0.4 mm | 0.0 inch. |\\n| 16. April | 12 °C | 54 °F | 17 °C | 63 °F | 9 °C | 48 °F | 11 °C | 52 °F | 1.2 mm | 0.0 inch. |\\n| 17. April | 13 °C | 55 °F | 17 °C | 63 °F | 9 °C | 49 °F | 11 °C | 52 °F | 1.3 mm | 0.1 inch. |', 'score': 0.8820324, 'raw_content': None}], 'response_time': 2.62}),\n",
       " AIMessage(content=\"The current weather in San Francisco is sunny with a temperature of 64°F. The forecast for the next few days ranges between 55°F to 59°F, close to the historical average for this time of year. On April 14th, there's a possibility of patchy rain.\", additional_kwargs={'refusal': None}, response_metadata={'token_usage': {'completion_tokens': 61, 'prompt_tokens': 1673, 'total_tokens': 1734, 'completion_tokens_details': {'accepted_prediction_tokens': 0, 'audio_tokens': 0, 'reasoning_tokens': 0, 'rejected_prediction_tokens': 0}, 'prompt_tokens_details': {'audio_tokens': 0, 'cached_tokens': 0}}, 'model_name': 'gpt-4-0613', 'system_fingerprint': None, 'id': 'chatcmpl-BLYKE8jFPJLoQjWaGZ7w378HQAz6K', 'finish_reason': 'stop', 'logprobs': None}, id='run-6698aa52-3aff-402b-9091-8ca89369a5f4-0', usage_metadata={'input_tokens': 1673, 'output_tokens': 61, 'total_tokens': 1734, 'input_token_details': {'audio': 0, 'cache_read': 0}, 'output_token_details': {'audio': 0, 'reasoning': 0}})]"
      ]
     },
     "execution_count": 21,
     "metadata": {},
     "output_type": "execute_result"
    }
   ],
   "source": [
    "response = agent_executor.invoke(\n",
    "    {\"messages\": [HumanMessage(content=\"whats the weather in sf?\")]}\n",
    ")\n",
    "response[\"messages\"]"
   ]
  },
  {
   "cell_type": "code",
   "execution_count": 22,
   "id": "d9ff974e",
   "metadata": {},
   "outputs": [
    {
     "name": "stdout",
     "output_type": "stream",
     "text": [
      "================================\u001b[1m Human Message \u001b[0m=================================\n",
      "\n",
      "whats the weather in sf?\n",
      "==================================\u001b[1m Ai Message \u001b[0m==================================\n",
      "Tool Calls:\n",
      "  tavily_search_results_json (call_XW8d0eWceGDdZnGPkTvliFrR)\n",
      " Call ID: call_XW8d0eWceGDdZnGPkTvliFrR\n",
      "  Args:\n",
      "    query: current weather in San Francisco\n",
      "=================================\u001b[1m Tool Message \u001b[0m=================================\n",
      "Name: tavily_search_results_json\n",
      "\n",
      "[{\"title\": \"Weather in San Francisco\", \"url\": \"https://www.weatherapi.com/\", \"content\": \"{'location': {'name': 'San Francisco', 'region': 'California', 'country': 'United States of America', 'lat': 37.775, 'lon': -122.4183, 'tz_id': 'America/Los_Angeles', 'localtime_epoch': 1744474858, 'localtime': '2025-04-12 09:20'}, 'current': {'last_updated_epoch': 1744474500, 'last_updated': '2025-04-12 09:15', 'temp_c': 11.7, 'temp_f': 53.1, 'is_day': 1, 'condition': {'text': 'Partly cloudy', 'icon': '//cdn.weatherapi.com/weather/64x64/day/116.png', 'code': 1003}, 'wind_mph': 3.1, 'wind_kph': 5.0, 'wind_degree': 235, 'wind_dir': 'SW', 'pressure_mb': 1018.0, 'pressure_in': 30.07, 'precip_mm': 0.0, 'precip_in': 0.0, 'humidity': 71, 'cloud': 50, 'feelslike_c': 11.7, 'feelslike_f': 53.0, 'windchill_c': 8.4, 'windchill_f': 47.0, 'heatindex_c': 9.3, 'heatindex_f': 48.7, 'dewpoint_c': 7.8, 'dewpoint_f': 46.0, 'vis_km': 16.0, 'vis_miles': 9.0, 'uv': 1.5, 'gust_mph': 4.0, 'gust_kph': 6.4}}\", \"score\": 0.9979733}, {\"title\": \"Saturday, April 12, 2025. San Francisco, CA - Weather Forecast\", \"url\": \"https://weathershogun.com/weather/usa/ca/san-francisco/480/april/2025-04-12\", \"content\": \"San Francisco, California Weather: Saturday, April 12, 2025. Sunny weather, clear skies and sunny weather. Day 61°. Night 52°.\", \"score\": 0.9358233}]\n",
      "==================================\u001b[1m Ai Message \u001b[0m==================================\n",
      "\n",
      "The current weather in San Francisco, California is partly cloudy with a temperature of 53.1°F (11.7°C). The wind is coming from the southwest at 3.1 mph. The humidity is at 71% and visibility is 16.0 km. [More Info Here](https://www.weatherapi.com/)\n"
     ]
    }
   ],
   "source": [
    "for step in agent_executor.stream(\n",
    "    {\"messages\": [HumanMessage(content=\"whats the weather in sf?\")]},\n",
    "    stream_mode=\"values\",\n",
    "):\n",
    "    step[\"messages\"][-1].pretty_print()"
   ]
  },
  {
   "cell_type": "code",
   "execution_count": 23,
   "id": "b62a8e4d",
   "metadata": {},
   "outputs": [
    {
     "name": "stdout",
     "output_type": "stream",
     "text": [
      "The| current| weather| in| San| Francisco|,| California| is| partly| cloudy| with| a| temperature| of| |11|.|7|°C| (|53|.|1|°F|).| The| wind| is| coming| from| the| southwest| at| a| speed| of| |5|.|0| k|ph| (|3|.|1| mph|).| The| humidity| level| is| |71|%| and| the| visibility| is| |16|.|0| km|.| [|Source|](|https|://|www|.weather|api|.com|/)|"
     ]
    }
   ],
   "source": [
    "for step, metadata in agent_executor.stream(\n",
    "    {\"messages\": [HumanMessage(content=\"whats the weather in sf?\")]},\n",
    "    stream_mode=\"messages\",\n",
    "):\n",
    "    if metadata[\"langgraph_node\"] == \"agent\" and (text := step.text()):\n",
    "        print(text, end=\"|\")"
   ]
  },
  {
   "cell_type": "code",
   "execution_count": 26,
   "id": "2e3f082e",
   "metadata": {},
   "outputs": [],
   "source": [
    "memory = MemorySaver()\n",
    "\n",
    "agent_executor = create_react_agent(model, tools, checkpointer=memory)\n",
    "\n",
    "config = {\"configurable\": {\"thread_id\": \"abc123\"}}"
   ]
  },
  {
   "cell_type": "code",
   "execution_count": 27,
   "id": "dae25862",
   "metadata": {},
   "outputs": [
    {
     "name": "stdout",
     "output_type": "stream",
     "text": [
      "{'agent': {'messages': [AIMessage(content='Hello Bob! How can I assist you today?', additional_kwargs={'refusal': None}, response_metadata={'token_usage': {'completion_tokens': 12, 'prompt_tokens': 85, 'total_tokens': 97, 'completion_tokens_details': {'accepted_prediction_tokens': 0, 'audio_tokens': 0, 'reasoning_tokens': 0, 'rejected_prediction_tokens': 0}, 'prompt_tokens_details': {'audio_tokens': 0, 'cached_tokens': 0}}, 'model_name': 'gpt-4-0613', 'system_fingerprint': None, 'id': 'chatcmpl-BLYMWVbnzARJY9jCHcd8zZtAZjwH1', 'finish_reason': 'stop', 'logprobs': None}, id='run-39f126c4-d813-4ca9-bd58-824bed7e59e4-0', usage_metadata={'input_tokens': 85, 'output_tokens': 12, 'total_tokens': 97, 'input_token_details': {'audio': 0, 'cache_read': 0}, 'output_token_details': {'audio': 0, 'reasoning': 0}})]}}\n",
      "----\n"
     ]
    }
   ],
   "source": [
    "for chunk in agent_executor.stream(\n",
    "    {\"messages\": [HumanMessage(content=\"hi im bob!\")]}, config\n",
    "):\n",
    "    print(chunk)\n",
    "    print(\"----\")"
   ]
  },
  {
   "cell_type": "code",
   "execution_count": 28,
   "id": "7fa64e52",
   "metadata": {},
   "outputs": [
    {
     "name": "stdout",
     "output_type": "stream",
     "text": [
      "{'agent': {'messages': [AIMessage(content='Your name is Bob.', additional_kwargs={'refusal': None}, response_metadata={'token_usage': {'completion_tokens': 7, 'prompt_tokens': 108, 'total_tokens': 115, 'completion_tokens_details': {'accepted_prediction_tokens': 0, 'audio_tokens': 0, 'reasoning_tokens': 0, 'rejected_prediction_tokens': 0}, 'prompt_tokens_details': {'audio_tokens': 0, 'cached_tokens': 0}}, 'model_name': 'gpt-4-0613', 'system_fingerprint': None, 'id': 'chatcmpl-BLYMjpdKJ4u9ss4NAVZL0nIobq9w8', 'finish_reason': 'stop', 'logprobs': None}, id='run-bcf4cadd-c102-4276-8652-b0228f745557-0', usage_metadata={'input_tokens': 108, 'output_tokens': 7, 'total_tokens': 115, 'input_token_details': {'audio': 0, 'cache_read': 0}, 'output_token_details': {'audio': 0, 'reasoning': 0}})]}}\n",
      "----\n"
     ]
    }
   ],
   "source": [
    "for chunk in agent_executor.stream(\n",
    "    {\"messages\": [HumanMessage(content=\"whats my name?\")]}, config\n",
    "):\n",
    "    print(chunk)\n",
    "    print(\"----\")"
   ]
  },
  {
   "cell_type": "code",
   "execution_count": 29,
   "id": "71903f2a",
   "metadata": {},
   "outputs": [
    {
     "name": "stdout",
     "output_type": "stream",
     "text": [
      "{'agent': {'messages': [AIMessage(content=\"As an AI, I don't have access to personal data about individuals unless it has been shared with me in the course of our conversation. I am designed to respect user privacy and confidentiality.\", additional_kwargs={'refusal': None}, response_metadata={'token_usage': {'completion_tokens': 40, 'prompt_tokens': 86, 'total_tokens': 126, 'completion_tokens_details': {'accepted_prediction_tokens': 0, 'audio_tokens': 0, 'reasoning_tokens': 0, 'rejected_prediction_tokens': 0}, 'prompt_tokens_details': {'audio_tokens': 0, 'cached_tokens': 0}}, 'model_name': 'gpt-4-0613', 'system_fingerprint': None, 'id': 'chatcmpl-BLYNH7AtIPFJSfxcPUjIBS2mTrtCI', 'finish_reason': 'stop', 'logprobs': None}, id='run-256d8a2f-c3e0-44bd-96dc-4bb1d74b1d8f-0', usage_metadata={'input_tokens': 86, 'output_tokens': 40, 'total_tokens': 126, 'input_token_details': {'audio': 0, 'cache_read': 0}, 'output_token_details': {'audio': 0, 'reasoning': 0}})]}}\n",
      "----\n"
     ]
    }
   ],
   "source": [
    "for chunk in agent_executor.stream(\n",
    "    {\"messages\": [HumanMessage(content=\"whats my name?\")]}, {\"configurable\": {\"thread_id\": \"abc124\"}}\n",
    "):\n",
    "    print(chunk)\n",
    "    print(\"----\")"
   ]
  }
 ],
 "metadata": {
  "kernelspec": {
   "display_name": "Python 3",
   "language": "python",
   "name": "python3"
  },
  "language_info": {
   "codemirror_mode": {
    "name": "ipython",
    "version": 3
   },
   "file_extension": ".py",
   "mimetype": "text/x-python",
   "name": "python",
   "nbconvert_exporter": "python",
   "pygments_lexer": "ipython3",
   "version": "3.10.1"
  }
 },
 "nbformat": 4,
 "nbformat_minor": 5
}
